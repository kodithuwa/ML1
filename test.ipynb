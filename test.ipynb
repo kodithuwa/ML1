{
 "cells": [
  {
   "cell_type": "code",
   "execution_count": 1,
   "id": "7505b145-65b2-437b-b866-6866d6aa4fa0",
   "metadata": {},
   "outputs": [
    {
     "name": "stdout",
     "output_type": "stream",
     "text": [
      "python for ML\n"
     ]
    }
   ],
   "source": [
    "print(\"python for ML\")"
   ]
  },
  {
   "cell_type": "code",
   "execution_count": null,
   "id": "53ddfb2e-228c-4e96-9260-f2f8fa29642e",
   "metadata": {},
   "outputs": [],
   "source": []
  }
 ],
 "metadata": {
  "kernelspec": {
   "display_name": "anaconda-2024.02-py310",
   "language": "python",
   "name": "conda-env-anaconda-2024.02-py310-py"
  },
  "language_info": {
   "codemirror_mode": {
    "name": "ipython",
    "version": 3
   },
   "file_extension": ".py",
   "mimetype": "text/x-python",
   "name": "python",
   "nbconvert_exporter": "python",
   "pygments_lexer": "ipython3",
   "version": "3.10.14"
  }
 },
 "nbformat": 4,
 "nbformat_minor": 5
}
